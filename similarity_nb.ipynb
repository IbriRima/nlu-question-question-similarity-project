{
 "cells": [
  {
   "cell_type": "code",
   "execution_count": 35,
   "metadata": {},
   "outputs": [],
   "source": [
    "import pandas as pd"
   ]
  },
  {
   "cell_type": "code",
   "execution_count": 36,
   "metadata": {},
   "outputs": [],
   "source": [
    "data=pd.read_csv('preprocessed_dataset.csv')"
   ]
  },
  {
   "cell_type": "code",
   "execution_count": 37,
   "metadata": {},
   "outputs": [],
   "source": [
    "from sklearn.feature_extraction.text import TfidfVectorizer\n",
    "from sklearn.metrics.pairwise import cosine_similarity\n",
    "from sentence_transformers import SentenceTransformer"
   ]
  },
  {
   "cell_type": "code",
   "execution_count": 38,
   "metadata": {},
   "outputs": [],
   "source": [
    "model = SentenceTransformer('distilbert-base-nli-mean-tokens')"
   ]
  },
  {
   "cell_type": "code",
   "execution_count": 39,
   "metadata": {},
   "outputs": [
    {
     "name": "stdout",
     "output_type": "stream",
     "text": [
      "72\n",
      "Meilleur contexte pour la question 'Quel est le régime en matière de TVA des écoles privées ?'\n"
     ]
    }
   ],
   "source": [
    "corpus_tfidf = model.encode(data['questions'])\n",
    "question=\"Quel est le régime fiscal appliqué à la TVA pour les écoles privées ?\"\n",
    "# Compute the TF-IDF scores for the question\n",
    "question_tfidf = model.encode([question])\n",
    "\n",
    "# Compute the cosine similarity between the question and each document in the corpus\n",
    "cos_similarities = cosine_similarity(question_tfidf, corpus_tfidf)\n",
    "\n",
    "# Select the document with the highest cosine similarity as the best context for the question\n",
    "best_doc_idx = cos_similarities.argmax()\n",
    "best_doc =data['questions'][best_doc_idx]\n",
    "\n",
    "print(best_doc_idx)\n",
    "print(\"Meilleur contexte pour la question '{}'\".format(best_doc))"
   ]
  },
  {
   "cell_type": "code",
   "execution_count": 49,
   "metadata": {},
   "outputs": [],
   "source": [
    "import numpy as np\n",
    "\n",
    "def get_top_10(cos_similarities):\n",
    "\n",
    "    highest_indices = np.argsort(-cos_similarities[0])[:10]\n",
    "\n",
    "    for i in highest_indices:\n",
    "        best_doc =data['questions'][i]\n",
    "        print(i)\n",
    "        print(\"Meilleur contexte pour la question '{}'\".format(best_doc))"
   ]
  },
  {
   "cell_type": "code",
   "execution_count": 50,
   "metadata": {},
   "outputs": [
    {
     "name": "stdout",
     "output_type": "stream",
     "text": [
      "72\n",
      "Meilleur contexte pour la question 'Quel est le régime en matière de TVA des écoles privées ?'\n",
      "85\n",
      "Meilleur contexte pour la question 'Quel est le taux de la TVA applicable à l’activité d’ingénieur conseil ?'\n",
      "89\n",
      "Meilleur contexte pour la question 'Les opérations de ventes de biens par un importateur avant le dédouanement sont-elles imposables à la TVA?'\n",
      "71\n",
      "Meilleur contexte pour la question 'Quel est le taux de la retenue à la source au titre de la TVA applicable sur les marchés publics ?'\n",
      "87\n",
      "Meilleur contexte pour la question 'Peut-on opter pour le régime de la TVA ?'\n",
      "35\n",
      "Meilleur contexte pour la question 'Doit-on présenter sa comptabilité aux agents de l'administration fiscale?'\n",
      "93\n",
      "Meilleur contexte pour la question 'Les autres impôts indirects font-t-ils partie de l’assiette de la TVA ?'\n",
      "91\n",
      "Meilleur contexte pour la question 'Les suppléments de prix pour paiement à terme font-t-ils partie de l’assiette de la TVA ?'\n",
      "94\n",
      "Meilleur contexte pour la question 'Quel est le sort de la TVA relative à l’acquisition des vêtements de travail ?'\n",
      "74\n",
      "Meilleur contexte pour la question 'Est-ce que les factures d’avoir doivent être déclarées dans les déclarations mensuelles de TVA?'\n"
     ]
    }
   ],
   "source": [
    "get_top_10(cos_similarities)"
   ]
  },
  {
   "cell_type": "code",
   "execution_count": 23,
   "metadata": {},
   "outputs": [
    {
     "name": "stdout",
     "output_type": "stream",
     "text": [
      "Question similaire à votre question 'Quels sont les droits d’enregistrement d’un contrat de location d’un local à usage commercial?':\n",
      "Réponse similaire à votre question 'Les baux de biens immeubles autres que ceux destinés à l'habitation sont enregistrés au taux proportionnel fixé à 1% du prix total du bail, déclaré dans le contrat.':\n"
     ]
    }
   ],
   "source": [
    "import pandas as pd\n",
    "from sklearn.metrics.pairwise import cosine_similarity\n",
    "from sentence_transformers import SentenceTransformer\n",
    "\n",
    "\n",
    "models = ['distilbert-base-nli-mean-tokens', 'roberta-base-nli-mean-tokens']\n",
    "num_models = len(models)\n",
    "\n",
    "data = pd.read_csv('preprocessed_dataset.csv')\n",
    "\n",
    "corpus_tfidf = []\n",
    "for model_name in models:\n",
    "    model = SentenceTransformer(model_name)\n",
    "    corpus_tfidf.append(model.encode(data['questions']))\n",
    "\n",
    "question = \"Quels sont les tarifs la location d'un local commercial ?\"\n",
    "question_tfidf = []\n",
    "for model_name in models:\n",
    "    model = SentenceTransformer(model_name)\n",
    "    question_tfidf.append(model.encode([question]))\n",
    "\n",
    "cos_similarities = [cosine_similarity(q_tfidf, c_tfidf) for q_tfidf, c_tfidf in zip(question_tfidf, corpus_tfidf)]\n",
    "avg_similarities = sum(cos_similarities) / num_models\n",
    "\n",
    "sim_quest_idx = avg_similarities.argmax()\n",
    "sim_quest = data['questions'][sim_quest_idx]\n",
    "sim_answer = data['answers'][sim_quest_idx]\n",
    "\n",
    "print(\"Question similaire à votre question '{}':\".format(sim_quest))\n",
    "print(\"Réponse similaire à votre question '{}':\".format(sim_answer))"
   ]
  },
  {
   "cell_type": "code",
   "execution_count": 24,
   "metadata": {},
   "outputs": [
    {
     "name": "stdout",
     "output_type": "stream",
     "text": [
      "Question :  Quels sont les tarifs la location d'un local commercial ?\n",
      "Answer :  <pad> 1%</s>\n"
     ]
    }
   ],
   "source": [
    "from transformers import GPT2Tokenizer, GPT2LMHeadModel, GPT2Config,AdamW,T5ForConditionalGeneration,T5Tokenizer\n",
    "import torch\n",
    "import pandas as pd\n",
    "\n",
    "model_name ='t5-base'\n",
    "model = T5ForConditionalGeneration.from_pretrained(model_name)\n",
    "tokenizer = T5Tokenizer.from_pretrained(model_name)\n",
    "\n",
    "context = sim_answer \n",
    "\n",
    "input_text = f\"question:{question} context : {context}\"\n",
    "input_ids = tokenizer.encode(input_text , return_tensors = \"pt\")\n",
    "\n",
    "output= model.generate(input_ids)\n",
    "answer = tokenizer.decode(output[0],skip_special_token=True)\n",
    "\n",
    "print(\"Question : \" , question)\n",
    "print(\"Answer : \", answer)"
   ]
  },
  {
   "cell_type": "code",
   "execution_count": 1,
   "metadata": {},
   "outputs": [],
   "source": [
    "import pandas as pd\n",
    "from sklearn.metrics.pairwise import cosine_similarity\n",
    "from sentence_transformers import SentenceTransformer\n",
    "import numpy as np\n",
    "import pandas as pd\n",
    "from sklearn.metrics.pairwise import cosine_similarity\n",
    "from sentence_transformers import SentenceTransformer\n",
    "from transformers import T5ForConditionalGeneration,T5Tokenizer\n",
    "\n",
    "\n",
    "models = ['distilbert-base-nli-mean-tokens','paraphrase-distilroberta-base-v1', 'paraphrase-MiniLM-L6-v2']\n",
    "model_name ='t5-base'\n",
    "model = T5ForConditionalGeneration.from_pretrained(model_name)\n",
    "tokenizer = T5Tokenizer.from_pretrained(model_name)\n",
    "data = pd.read_csv('preprocessed_dataset.csv')\n",
    "question = input('Please enter your question: ') "
   ]
  },
  {
   "cell_type": "code",
   "execution_count": 4,
   "metadata": {},
   "outputs": [
    {
     "name": "stdout",
     "output_type": "stream",
     "text": [
      "1\n",
      "2\n",
      "3\n"
     ]
    }
   ],
   "source": [
    "num_models = len(models)\n",
    "corpus_tfidf = []\n",
    "question_tfidf = []\n",
    "cos_similarities=[]\n",
    "for model_name in models:\n",
    "    model = SentenceTransformer(model_name)\n",
    "    question_tfidf.append(model.encode([question]))\n",
    "\n",
    "    corpus_tfidf.append(model.encode(data['questions']))\n",
    "    print(len(question_tfidf))\n",
    "    for c_tfidf in corpus_tfidf:\n",
    "        cos_similarities.append(cosine_similarity(question_tfidf, c_tfidf))\n",
    "\n",
    "        \n",
    "\n",
    "\n",
    "\n",
    "\n",
    "    \n",
    "cos_similarities = [cosine_similarity(q_tfidf, c_tfidf) for q_tfidf, c_tfidf in zip(question_tfidf, corpus_tfidf)]\n",
    "avg_similarities = sum(cos_similarities) / num_models\n",
    "\n",
    "sim_quest_idx = avg_similarities.argmax()\n",
    "sim_quest = data['questions'][sim_quest_idx]\n",
    "sim_answer = data['answers'][sim_quest_idx]\n"
   ]
  },
  {
   "cell_type": "code",
   "execution_count": null,
   "metadata": {},
   "outputs": [],
   "source": []
  }
 ],
 "metadata": {
  "kernelspec": {
   "display_name": "Python 3",
   "language": "python",
   "name": "python3"
  },
  "language_info": {
   "codemirror_mode": {
    "name": "ipython",
    "version": 3
   },
   "file_extension": ".py",
   "mimetype": "text/x-python",
   "name": "python",
   "nbconvert_exporter": "python",
   "pygments_lexer": "ipython3",
   "version": "3.9.13"
  },
  "orig_nbformat": 4
 },
 "nbformat": 4,
 "nbformat_minor": 2
}
